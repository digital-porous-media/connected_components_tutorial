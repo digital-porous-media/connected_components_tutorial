{
 "cells": [
  {
   "cell_type": "markdown",
   "metadata": {},
   "source": [
    "# Connected Components Tutorial - Digital Porous Media\n",
    "\n",
    "\n",
    "## Overview\n",
    "This Jupyter Notebook is designed to perform **connected component analysis** on a given dataset or image. Connected component analysis is a common technique in image processing and graph theory used to identify and label connected regions in a binary or labeled image.\n",
    "\n",
    "Here, we will be using the [connected-components-3d](https://github.com/seung-lab/connected-components-3d) package. More functionality and description about the model is avaiable in the corresponding repository.\n",
    "\n",
    "*<span style=\"color:gray;\">Silversmith, W. (2021). cc3d: Connected components on multilabel 3D & 2D images. (Version 3.2.1) [Computer software]. ht<span>tps:</span>//doi.<span>or</span>g/ht<span>tps</span>://zenodo.org/record/5535251.</span>*\n",
    "\n",
    "## Purpose\n",
    "This notebook:\n",
    "1. Processes input data (e.g., binary porous media images).\n",
    "2. Identifies connected components in the data.\n",
    "3. Visualizes or outputs the results of the analysis.\n",
    "\n",
    "___\n",
    "*Author/Contact:* ***[Çınar Turhan](https://www.linkedin.com/in/cinarturhan/)*** "
   ]
  },
  {
   "cell_type": "code",
   "execution_count": 1,
   "metadata": {},
   "outputs": [],
   "source": [
    "import cc3d\n",
    "import numpy as np\n",
    "import pandas as pd\n",
    "import matplotlib.pyplot as plt\n",
    "import pyvista as pv\n",
    "import tifffile\n",
    "import dpm_tools as dpm\n",
    "\n",
    "\n",
    "# We define a function to plot the pores within the 3D image.\n",
    "def plot_sample(sample):\n",
    "    plotter_obj = pv.Plotter(lighting='three lights')\n",
    "\n",
    "    # Set background colors\n",
    "    plotter_obj.set_background(color='w')\n",
    "\n",
    "    # Set font colors and sizes\n",
    "    pv.global_theme.font.color = 'black'\n",
    "    pv.global_theme.font.size = 18\n",
    "    pv.global_theme.font.label_size = 14\n",
    "    \n",
    "    pv.set_jupyter_backend('server')\n",
    "    \n",
    "    sample = np.pad(sample, ((1, 1), (1, 1), (1, 1)), mode='constant', constant_values=0)\n",
    "    \n",
    "    pv_image_obj = pv.wrap(sample)\n",
    "    contours = pv_image_obj.contour(isosurfaces=[0.5])\n",
    "    plotter_obj.add_mesh(contours, opacity=1, color=(200 / 255, 181 / 255, 152 / 255), diffuse=0.75, ambient=0.15)\n",
    "    \n",
    "    \n",
    "    plotter_obj.show(jupyter_backend='server')"
   ]
  },
  {
   "cell_type": "code",
   "execution_count": 2,
   "metadata": {},
   "outputs": [
    {
     "name": "stdout",
     "output_type": "stream",
     "text": [
      "Original Porosity: 20.61 %\n",
      "Subset Porosity: 20.52 %\n",
      "Competent Subset: [50:150,50:150, 50:150]\n"
     ]
    },
    {
     "data": {
      "image/png": "[encoded data removed]",
      "text/plain": [
       "<Figure size 400x400 with 2 Axes>"
      ]
     },
     "metadata": {},
     "output_type": "display_data"
    }
   ],
   "source": [
    "# Load the data:\n",
    "sample = tifffile.imread('castlegate.tif')\n",
    "\n",
    "# seting the seed for getting the same competent subset each time:\n",
    "np.random.seed(42025)\n",
    "\n",
    "# getting a subset of the data:\n",
    "subset,_ = dpm.visualization.extract_competent_subset(sample, cube_size= 100, batch=100, pore_class = 1)\n",
    "sample_subset = sample[subset[0]: subset[1], subset[0]: subset[1], subset[0]: subset[1]]\n",
    "\n",
    "fig, ax = plt.subplots(1, 1, figsize=(4, 4))\n",
    "im=plt.imshow(sample_subset[20, :, :], interpolation='none',cmap='gray')\n",
    "plt.colorbar(im)\n",
    "plt.show()"
   ]
  },
  {
   "cell_type": "code",
   "execution_count": 3,
   "metadata": {},
   "outputs": [
    {
     "data": {
      "application/vnd.jupyter.widget-view+json": {
       "model_id": "36a9913db8f44bf08c85acd50b711929",
       "version_major": 2,
       "version_minor": 0
      },
      "text/plain": [
       "Widget(value='<iframe src=\"http://localhost:40977/index.html?ui=P_0x7f0be0e8c950_0&reconnect=auto\" class=\"pyvi…"
      ]
     },
     "metadata": {},
     "output_type": "display_data"
    }
   ],
   "source": [
    "plot_sample(sample_subset)"
   ]
  },
  {
   "cell_type": "markdown",
   "metadata": {},
   "source": [
    "### Extracting Connected Components\n",
    "\n",
    "To identify and analyze connected components within the 3D image, we utilize the functionality provided by the `connected-components-3d` library. Specifically, we use the `largest_k` function to extract the largest connected components from the `sample_subset` data.\n",
    "\n",
    "1. **Largest Component (`k=1`)**:\n",
    "    Using the following script, we extract the largest connected component in the dataset:\n",
    "    ```python\n",
    "    largest_comp, N_1 = cc3d.largest_k(\n",
    "         sample_subset, k=1, \n",
    "         connectivity=26, delta=0,\n",
    "         return_N=True,\n",
    "    )\n",
    "    ```\n",
    "    Here:\n",
    "    - `k=1` specifies that we want the single largest component.\n",
    "    - `connectivity=26` ensures that all 26 neighbors in a 3D grid are considered for connectivity.\n",
    "    - `delta=0` indicates no additional padding or tolerance for connectivity.\n",
    "    - `return_N=True` returns the total number of connected components found.\n",
    "\n",
    "2. **Top 10 Largest Components (`k=10`)**:\n",
    "    To extract the 10 largest connected components, we use:\n",
    "    ```python\n",
    "    largest_10_comp, N_10 = cc3d.largest_k(\n",
    "         sample_subset, k=10, \n",
    "         connectivity=26, delta=0,\n",
    "         return_N=True,\n",
    "    )\n",
    "    ```\n",
    "    This script works similarly to the first one but retrieves the top 10 largest components instead of just one.\n",
    "\n",
    "These scripts allow us to isolate and analyze the most significant connected regions within the 3D image. We are usually interested in the pore space; therefore, the aim is to extract the largest connected pores."
   ]
  },
  {
   "cell_type": "code",
   "execution_count": 4,
   "metadata": {},
   "outputs": [
    {
     "name": "stdout",
     "output_type": "stream",
     "text": [
      "Number of components in k=1: 1\n",
      "Number of components in k=10: 10\n"
     ]
    }
   ],
   "source": [
    "# return the largest component:\n",
    "largest_comp, N_1 = cc3d.largest_k(\n",
    "    sample_subset, k=1, \n",
    "    connectivity=26, delta=0,\n",
    "    return_N=True,\n",
    ")\n",
    "\n",
    "# return 10 largest components:\n",
    "largest_10_comp, N_10 = cc3d.largest_k(\n",
    "    sample_subset, k=10, \n",
    "    connectivity=26, delta=0,\n",
    "    return_N=True,\n",
    ")\n",
    "\n",
    "print(f'Number of components in k=1: {N_1}')\n",
    "print(f'Number of components in k=10: {N_10}')"
   ]
  },
  {
   "cell_type": "markdown",
   "metadata": {},
   "source": [
    "To further analyze the connected components, we can use the following code snippets:\n",
    "\n",
    "1. **Print Unique Labels**:\n",
    "    ```python\n",
    "    print(np.unique(largest_comp))\n",
    "    print(np.unique(largest_10_comp))\n",
    "    ```\n",
    "    These lines print the unique labels present in the arrays `largest_comp` and `largest_10_comp`. This helps verify the number of connected components identified and their corresponding labels.\n",
    "\n",
    "\n",
    "2. **Check Pixel Values for Each Label**:\n",
    "    ```python\n",
    "    df = pd.DataFrame(np.unique(largest_10_comp, return_counts=True))\n",
    "    df.columns = ['background'] + [f'comp{i}' for i in range(1, df.shape[1])]\n",
    "    df.index = ['label', 'count']\n",
    "    df = df.T\n",
    "    df\n",
    "    ```\n",
    "    This snippet allows us to check the pixel counts associated with each label in `largest_10_comp`. By examining these values, we can determine which component is the largest one based on the count of pixels for each label."
   ]
  },
  {
   "cell_type": "code",
   "execution_count": 5,
   "metadata": {},
   "outputs": [
    {
     "name": "stdout",
     "output_type": "stream",
     "text": [
      "[0 1]\n",
      "[ 0  1  2  3  4  5  6  7  8  9 10]\n"
     ]
    },
    {
     "data": {
      "text/html": [
       "<div>\n",
       "<style scoped>\n",
       "    .dataframe tbody tr th:only-of-type {\n",
       "        vertical-align: middle;\n",
       "    }\n",
       "\n",
       "    .dataframe tbody tr th {\n",
       "        vertical-align: top;\n",
       "    }\n",
       "\n",
       "    .dataframe thead th {\n",
       "        text-align: right;\n",
       "    }\n",
       "</style>\n",
       "<table border=\"1\" class=\"dataframe\">\n",
       "  <thead>\n",
       "    <tr style=\"text-align: right;\">\n",
       "      <th></th>\n",
       "      <th>label</th>\n",
       "      <th>count</th>\n",
       "    </tr>\n",
       "  </thead>\n",
       "  <tbody>\n",
       "    <tr>\n",
       "      <th>background</th>\n",
       "      <td>0</td>\n",
       "      <td>794967</td>\n",
       "    </tr>\n",
       "    <tr>\n",
       "      <th>comp1</th>\n",
       "      <td>1</td>\n",
       "      <td>37</td>\n",
       "    </tr>\n",
       "    <tr>\n",
       "      <th>comp2</th>\n",
       "      <td>2</td>\n",
       "      <td>43</td>\n",
       "    </tr>\n",
       "    <tr>\n",
       "      <th>comp3</th>\n",
       "      <td>3</td>\n",
       "      <td>56</td>\n",
       "    </tr>\n",
       "    <tr>\n",
       "      <th>comp4</th>\n",
       "      <td>4</td>\n",
       "      <td>57</td>\n",
       "    </tr>\n",
       "    <tr>\n",
       "      <th>comp5</th>\n",
       "      <td>5</td>\n",
       "      <td>107</td>\n",
       "    </tr>\n",
       "    <tr>\n",
       "      <th>comp6</th>\n",
       "      <td>6</td>\n",
       "      <td>176</td>\n",
       "    </tr>\n",
       "    <tr>\n",
       "      <th>comp7</th>\n",
       "      <td>7</td>\n",
       "      <td>679</td>\n",
       "    </tr>\n",
       "    <tr>\n",
       "      <th>comp8</th>\n",
       "      <td>8</td>\n",
       "      <td>1229</td>\n",
       "    </tr>\n",
       "    <tr>\n",
       "      <th>comp9</th>\n",
       "      <td>9</td>\n",
       "      <td>2004</td>\n",
       "    </tr>\n",
       "    <tr>\n",
       "      <th>comp10</th>\n",
       "      <td>10</td>\n",
       "      <td>200645</td>\n",
       "    </tr>\n",
       "  </tbody>\n",
       "</table>\n",
       "</div>"
      ],
      "text/plain": [
       "           label   count\n",
       "background     0  794967\n",
       "comp1          1      37\n",
       "comp2          2      43\n",
       "comp3          3      56\n",
       "comp4          4      57\n",
       "comp5          5     107\n",
       "comp6          6     176\n",
       "comp7          7     679\n",
       "comp8          8    1229\n",
       "comp9          9    2004\n",
       "comp10        10  200645"
      ]
     },
     "execution_count": 5,
     "metadata": {},
     "output_type": "execute_result"
    }
   ],
   "source": [
    "print(np.unique(largest_comp))\n",
    "print(np.unique(largest_10_comp))\n",
    "\n",
    "\n",
    "df = pd.DataFrame(np.unique(largest_10_comp, return_counts=True))\n",
    "df.columns = ['background'] + [f'comp{i}' for i in range(1, df.shape[1])]\n",
    "df.index = ['label', 'count']\n",
    "df = df.T\n",
    "df"
   ]
  },
  {
   "cell_type": "code",
   "execution_count": 6,
   "metadata": {},
   "outputs": [
    {
     "name": "stdout",
     "output_type": "stream",
     "text": [
      "In this case, label 10 is the largest component, and label 9 is the second largest component. Let's isolate and visualize each.\n"
     ]
    }
   ],
   "source": [
    "# Sort the DataFrame by count in descending order and pick the largest and second largest components\n",
    "sorted_df = df.iloc[1:].sort_values(by='count', ascending=False)  # Exclude 'background'\n",
    "largest_label = sorted_df['label'][0]\n",
    "second_largest_label = sorted_df['label'][1]\n",
    "\n",
    "print(f\"In this case, label {largest_label} is the largest component, and label {second_largest_label} is the second largest component. Let's isolate and visualize each.\")"
   ]
  },
  {
   "cell_type": "code",
   "execution_count": 7,
   "metadata": {},
   "outputs": [
    {
     "data": {
      "application/vnd.jupyter.widget-view+json": {
       "model_id": "a85f88ba6dd243e3a48c35d8f131f71b",
       "version_major": 2,
       "version_minor": 0
      },
      "text/plain": [
       "Widget(value='<iframe src=\"http://localhost:40977/index.html?ui=P_0x7f0be0c28fd0_1&reconnect=auto\" class=\"pyvi…"
      ]
     },
     "metadata": {},
     "output_type": "display_data"
    },
    {
     "data": {
      "application/vnd.jupyter.widget-view+json": {
       "model_id": "a80483dcfe58431eb3bab539174e02ff",
       "version_major": 2,
       "version_minor": 0
      },
      "text/plain": [
       "Widget(value='<iframe src=\"http://localhost:40977/index.html?ui=P_0x7f0be0c4fd10_2&reconnect=auto\" class=\"pyvi…"
      ]
     },
     "metadata": {},
     "output_type": "display_data"
    }
   ],
   "source": [
    "extracted_largest_component_image = largest_10_comp * (largest_10_comp == largest_label)\n",
    "extracted_second_largest_component_image = largest_10_comp * (largest_10_comp == second_largest_label)\n",
    "\n",
    "plot_sample(extracted_largest_component_image)\n",
    "plot_sample(extracted_second_largest_component_image)"
   ]
  },
  {
   "cell_type": "markdown",
   "metadata": {},
   "source": [
    "We now have two distinct images: the first represents the largest connected pore, while the second, significantly smaller, corresponds to the second-largest component in the image.\n",
    "\n",
    "To further refine our analysis, we can remove noise by eliminating small, disconnected components below a specified threshold. This process helps isolate meaningful structures and improves the clarity of the results."
   ]
  },
  {
   "cell_type": "code",
   "execution_count": 8,
   "metadata": {},
   "outputs": [
    {
     "data": {
      "application/vnd.jupyter.widget-view+json": {
       "model_id": "28fa410245894cfaa04b67ec0c709a7c",
       "version_major": 2,
       "version_minor": 0
      },
      "text/plain": [
       "Widget(value='<iframe src=\"http://localhost:40977/index.html?ui=P_0x7f0be0a1c6d0_3&reconnect=auto\" class=\"pyvi…"
      ]
     },
     "metadata": {},
     "output_type": "display_data"
    }
   ],
   "source": [
    "# Remove dust from the input image. Removes objects with fewer than `threshold` voxels.\n",
    "denoised = cc3d.dust(\n",
    "  sample_subset, threshold=100, \n",
    "  connectivity=26, in_place=False\n",
    ")\n",
    "\n",
    "plot_sample(denoised)"
   ]
  },
  {
   "cell_type": "markdown",
   "metadata": {},
   "source": [
    "We can do further topological analysis on the extracted components."
   ]
  },
  {
   "cell_type": "code",
   "execution_count": 9,
   "metadata": {},
   "outputs": [
    {
     "name": "stdout",
     "output_type": "stream",
     "text": [
      "             Stat  Whole Subset  Largest Component\n",
      "0          Volume     205185.00      200645.000000\n",
      "1    Surface Area     104180.00      100356.000000\n",
      "2  Mean Curvature       9702.29        8769.232294\n",
      "3    Euler Number        -91.00        -108.500000\n"
     ]
    },
    {
     "data": {
      "image/png": "[encoded data removed]",
      "text/plain": [
       "<Figure size 600x400 with 1 Axes>"
      ]
     },
     "metadata": {},
     "output_type": "display_data"
    }
   ],
   "source": [
    "from dpm_tools.metrics import minkowski_functionals\n",
    "\n",
    "# Whole subset:\n",
    "whole_volume = minkowski_functionals(sample_subset)[0]\n",
    "whole_surface_area = minkowski_functionals(sample_subset)[1]\n",
    "whole_mean_curvature = minkowski_functionals(sample_subset)[2]\n",
    "whole_euler_number = minkowski_functionals(sample_subset)[3]\n",
    "\n",
    "\n",
    "# Extracted largest component:\n",
    "# We set the label of the largest component to 1 for using minowski_functionals:\n",
    "extracted_largest_component_image = np.where(extracted_largest_component_image == largest_label, 1, 0)\n",
    "\n",
    "largest_volume = minkowski_functionals(extracted_largest_component_image)[0]\n",
    "largest_surface_area = minkowski_functionals(extracted_largest_component_image)[1]\n",
    "largest_mean_curvature = minkowski_functionals(extracted_largest_component_image)[2]\n",
    "largest_euler_number = minkowski_functionals(extracted_largest_component_image)[3]\n",
    "\n",
    "# Define whole stats and largest stats\n",
    "whole_stats = [whole_volume, whole_surface_area, whole_mean_curvature, whole_euler_number]\n",
    "largest_stats = [largest_volume, largest_surface_area, largest_mean_curvature, largest_euler_number]\n",
    "\n",
    "# Round the stats to 2 decimals\n",
    "whole_stats = list(map(lambda x: round(x, 2), whole_stats))\n",
    "# largest_stats = list(map(lambda x: round(x, 2), largest_stats))\n",
    "\n",
    "# Print the comparison of whole stats vs largest stats\n",
    "comparison_df = pd.DataFrame({\n",
    "    'Stat': ['Volume', 'Surface Area', 'Mean Curvature', 'Euler Number'],\n",
    "    'Whole Subset': whole_stats,\n",
    "    'Largest Component': largest_stats\n",
    "})\n",
    "\n",
    "print(comparison_df)\n",
    "\n",
    "# Plot the comparison\n",
    "labels = ['Volume', 'Surface Area', 'Mean Curvature', 'Euler Number']\n",
    "whole_stats = [whole_volume, whole_surface_area, whole_mean_curvature, whole_euler_number]\n",
    "largest_stats = [largest_volume, largest_surface_area, largest_mean_curvature, largest_euler_number]\n",
    "\n",
    "x = np.arange(len(labels))  # the label locations\n",
    "width = 0.35  # the width of the bars\n",
    "\n",
    "fig, ax = plt.subplots(figsize=(6, 4))\n",
    "rects1 = ax.bar(x - width/2, whole_stats, width, label='Whole Subset')\n",
    "rects2 = ax.bar(x + width/2, largest_stats, width, label='Largest Component')\n",
    "\n",
    "# Add some text for labels, title and custom x-axis tick labels, etc.\n",
    "ax.set_ylabel('Values')\n",
    "ax.set_title('Comparison of Whole Subset vs Largest Component Stats')\n",
    "ax.set_xticks(x)\n",
    "ax.set_xticklabels(labels)\n",
    "ax.legend()\n",
    "\n",
    "fig.tight_layout()\n",
    "plt.show()"
   ]
  },
  {
   "cell_type": "markdown",
   "metadata": {},
   "source": [
    "___\n",
    "*Author:* ***[Çınar Turhan](https://www.linkedin.com/in/cinarturhan/)*** \n",
    "___"
   ]
  }
 ],
 "metadata": {
  "kernelspec": {
   "display_name": "nocturn",
   "language": "python",
   "name": "python3"
  },
  "language_info": {
   "codemirror_mode": {
    "name": "ipython",
    "version": 3
   },
   "file_extension": ".py",
   "mimetype": "text/x-python",
   "name": "python",
   "nbconvert_exporter": "python",
   "pygments_lexer": "ipython3",
   "version": "3.11.9"
  }
 },
 "nbformat": 4,
 "nbformat_minor": 2
}
